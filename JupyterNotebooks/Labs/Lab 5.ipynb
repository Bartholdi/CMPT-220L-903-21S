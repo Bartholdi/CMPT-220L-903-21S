{
 "cells": [
  {
   "cell_type": "markdown",
   "metadata": {},
   "source": [
    "# Lab Five\n",
    "---\n",
    "\n",
    "For this lab we're going to be messing around with our Linear Data Types!\n",
    "\n",
    "Our Goals are:\n",
    "- Creating an Array\n",
    "- Creating an ArrayList\n",
    "- Creating an LinkedList\n",
    "- Creating an Queue\n",
    "- Creating an Stack \n",
    "\n",
    "Please show the ability to:\n",
    "- Create these data types\n",
    "- Populate the data types\n",
    "- Print out the Linear Data Types"
   ]
  },
  {
   "cell_type": "code",
   "execution_count": 3,
   "metadata": {},
   "outputs": [
    {
     "name": "stdout",
     "output_type": "stream",
     "text": [
      "1\n",
      "2\n",
      "3\n",
      "4\n",
      "5\n",
      "6\n",
      "7\n",
      "8\n",
      "9\n",
      "10\n"
     ]
    }
   ],
   "source": [
    "// Create an Array, Populate it, and Print it out\n",
    "int[] numbers = {1, 2, 3, 4, 5, 6, 7, 8, 9, 10'};\n",
    "for (int i = 0; i < numbers.length; i++){\n",
    "    System.out.println(numbers[i]);\n",
    "}"
   ]
  },
  {
   "cell_type": "code",
   "execution_count": 4,
   "metadata": {},
   "outputs": [
    {
     "name": "stdout",
     "output_type": "stream",
     "text": [
      "[10, 15, 20, 25]"
     ]
    }
   ],
   "source": [
    "// Create an ArrayList, Populate it, and Print it out\n",
    "\n",
    "import java.util.ArrayList;\n",
    "\n",
    "ArrayList<Integer> array_list = new ArrayList();\n",
    "array_list.add(10);\n",
    "array_list.add(15);\n",
    "array_list.add(20);\n",
    "array_list.add(25);\n",
    "System.out.print(array_list)\n"
   ]
  },
  {
   "cell_type": "code",
   "execution_count": 5,
   "metadata": {},
   "outputs": [
    {
     "name": "stdout",
     "output_type": "stream",
     "text": [
      "[Pitcher, Catcher, First Base, Second Base, Shortstop, Third Base, Right Field, Center Field, Left Field]\n"
     ]
    }
   ],
   "source": [
    "// Create an LinkedList, Populate it, and Print it out\n",
    "\n",
    "import java.util.LinkedList;\n",
    "\n",
    "LinkedList<String> baseball_team = new LinkedList<String>();\n",
    "\n",
    "baseball_team.add(\"Pitcher\");\n",
    "baseball_team.add(\"Catcher\");\n",
    "baseball_team.add(\"First Base\");\n",
    "baseball_team.add(\"Second Base\");\n",
    "baseball_team.add(\"Shortstop\");\n",
    "baseball_team.add(\"Third Base\");\n",
    "baseball_team.add(\"Right Field\");\n",
    "baseball_team.add(\"Center Field\");\n",
    "baseball_team.add(\"Left Field\");\n",
    "\n",
    "System.out.println(baseball_team);"
   ]
  },
  {
   "cell_type": "code",
   "execution_count": 7,
   "metadata": {},
   "outputs": [
    {
     "name": "stdout",
     "output_type": "stream",
     "text": [
      "[Joe, Luca, Ryan, Paul, Seth, Rao, Nick]\n"
     ]
    }
   ],
   "source": [
    "// Create an Queue, Populate it, and Print it out\n",
    "\n",
    "import java.util.Queue;\n",
    "\n",
    "Queue<String> team = new LinkedList<String>();\n",
    "team.add(\"Joe\");\n",
    "team.add(\"Luca\");\n",
    "team.add(\"Ryan\");\n",
    "team.add(\"Paul\");\n",
    "team.add(\"Seth\");\n",
    "team.add(\"Rao\");\n",
    "team.add(\"Nick\");\n",
    "\n",
    "System.out.println(team);"
   ]
  },
  {
   "cell_type": "code",
   "execution_count": 9,
   "metadata": {},
   "outputs": [
    {
     "name": "stdout",
     "output_type": "stream",
     "text": [
      "[red, orange, yellow, green, blue, purple]\n"
     ]
    }
   ],
   "source": [
    "// Create a Stack, Populate it, and Print it out\n",
    "\n",
    "import java.util.Stack;\n",
    "\n",
    "Stack<String> rainbow = new Stack<String>();\n",
    "\n",
    "rainbow.push(\"red\");\n",
    "rainbow.push(\"orange\");\n",
    "rainbow.push(\"yellow\");\n",
    "rainbow.push(\"green\");\n",
    "rainbow.push(\"blue\");\n",
    "rainbow.push(\"purple\");\n",
    "\n",
    "System.out.println(rainbow);"
   ]
  }
 ],
 "metadata": {
  "kernelspec": {
   "display_name": "Java",
   "name": "java"
  },
  "language_info": {
   "name": "java"
  },
  "orig_nbformat": 2
 },
 "nbformat": 4,
 "nbformat_minor": 2
}