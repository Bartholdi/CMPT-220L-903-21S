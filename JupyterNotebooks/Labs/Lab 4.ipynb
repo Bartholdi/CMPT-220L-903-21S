{
 "cells": [
  {
   "cell_type": "markdown",
   "metadata": {},
   "source": [
    "# Lab Four\n",
    "---\n",
    "\n",
    "For this lab we're going to be messing around with Markdown!\n",
    "\n",
    "Our Goals are:\n",
    "- Using Markdown!\n",
    "\n",
    "I want you to describe to me your process of converting the assignment and making it DRY. \n",
    "\n",
    "Please show the ability to:\n",
    "- Make a header\n",
    "- Make a list (ordered or unordered)\n",
    "- Link the Markdown Guide from the lesson. \n",
    "- Artuculate your thought process."
   ]
  },
  {
   "cell_type": "markdown",
   "metadata": {},
   "source": [
    "Joseph Bartholdi\n",
    "Professor Kippins\n",
    "3/23/20\n",
    "\n",
    "- The first thing I did to dry off the code of the lemonade stand was create two more universal variables.\n",
    "- I added a variable for the price of the lemonade and a variable for the price of the pretzel.\n",
    "- This is helpful because now the price of the pretzel and the price of the lemonade can change easily without going throguhout the entire code.\n",
    "- I also combined the two commands for the cash and combine them into one command.\n",
    "- I did this by add the amount of money from the pretzels and the amount of money from the lemonade together in the same line.\n",
    "- to make writing each customer's order easier, I created five different parameters within five different functions.\n",
    "- I made a function for the cash, tips, lemonade and pretzels.\n",
    "- In each function I made a parameter linking each piece I have to print at the end to a variable.\n",
    "- I then called each function into another function \"serve_Customer\"\n",
    "- Putting them all into on function made it efficent because for the actual code, I only need to call one funcion.\n",
    "- in the code, I assigned pretzels to x, lemonade to y, and tips to z.\n",
    "- I assgined each of the orders from the customers into the called function. \n",
    "- Each customer had one line of code instead of six like the original.\n",
    "- after filling in all 15 orders I ran the function and the print was the same as the wet code.\n",
    "\n",
    "\n",
    "\n",
    "\n",
    "\n",
    "\n"
   ]
  }
 ],
 "metadata": {
  "kernelspec": {
   "display_name": "Python 3.8.2 64-bit",
   "metadata": {
    "interpreter": {
     "hash": "31f2aee4e71d21fbe5cf8b01ff0e069b9275f58929596ceb00d14d90e3e16cd6"
    }
   },
   "name": "python3"
  },
  "language_info": {
   "codemirror_mode": {
    "name": "ipython",
    "version": 3
   },
   "file_extension": ".py",
   "mimetype": "text/x-python",
   "name": "python",
   "nbconvert_exporter": "python",
   "pygments_lexer": "ipython3",
   "version": "3.8.2"
  },
  "orig_nbformat": 2
 },
 "nbformat": 4,
 "nbformat_minor": 2
}