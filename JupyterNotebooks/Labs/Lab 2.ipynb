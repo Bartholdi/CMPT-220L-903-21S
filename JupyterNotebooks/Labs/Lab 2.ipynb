{
 "cells": [
  {
   "cell_type": "markdown",
   "metadata": {},
   "source": [
    "# Lab Two\n",
    "---\n",
    "\n",
    "Ok for this lab we're going to reiterate a lot of the things that we went over in class.\n",
    "\n",
    "Our Goals are:\n",
    "- Conditionals\n",
    "    - If\n",
    "    - Else\n",
    "    - Else If"
   ]
  },
  {
   "cell_type": "code",
   "execution_count": 1,
   "metadata": {},
   "outputs": [
    {
     "name": "stdout",
     "output_type": "stream",
     "text": [
      "Welcome to Software Dev I\n"
     ]
    }
   ],
   "source": [
    "// Make an if statement\n",
    "\n",
    "if (true) {\n",
    "\n",
    "    System.out.println(\"Welcome to Software Dev I\");\n",
    "}"
   ]
  },
  {
   "cell_type": "code",
   "execution_count": 17,
   "metadata": {},
   "outputs": [
    {
     "name": "stdout",
     "output_type": "stream",
     "text": [
      "Coding is fun\n"
     ]
    }
   ],
   "source": [
    "// Make an if, else statement where the else statement triggers\n",
    "\n",
    "if (false) {\n",
    "    System.out.println(\"Welcome to Software Dev I\");\n",
    "} else {\n",
    "    System.out.println(\"Coding is fun\");\n",
    "}"
   ]
  },
  {
   "cell_type": "code",
   "execution_count": 3,
   "metadata": {},
   "outputs": [
    {
     "name": "stdout",
     "output_type": "stream",
     "text": [
      "Marist 2024\n"
     ]
    }
   ],
   "source": [
    "// Make an if, else if, else statement where the else if statement triggers\n",
    "if (!true) {\n",
    "\n",
    "    System.out.println(\"Welcome to Software Dev I\");\n",
    "} else if (true){\n",
    "    System.out.println(\"Marist 2024\");\n",
    "    \n",
    "} else {\n",
    "    System.out.println(\"Coding is fun\");\n",
    "    \n",
    "}"
   ]
  },
  {
   "cell_type": "code",
   "execution_count": 5,
   "metadata": {},
   "outputs": [
    {
     "name": "stdout",
     "output_type": "stream",
     "text": [
      "It is big enough\n"
     ]
    }
   ],
   "source": [
    "// Make 2 variables and use them in an if else conditional\n",
    "int x = 5;\n",
    "int y = 10;\n",
    "if (x+y > 13) {\n",
    "\n",
    "    System.out.println(\"It is big enough\");\n",
    "} else {\n",
    "    System.out.println(\"it is too small\");\n",
    "}\n"
   ]
  },
  {
   "cell_type": "code",
   "execution_count": 22,
   "metadata": {},
   "outputs": [
    {
     "name": "stdout",
     "output_type": "stream",
     "text": [
      "I can make a cheese and crackers\n"
     ]
    }
   ],
   "source": [
    "// Make an if statement using 2 variables and an AND(&&) statement\n",
    "boolean cheese = true;\n",
    "boolean crackers = true;\n",
    "\n",
    "if (cheese && crackers) {\n",
    "    System.out.println(\"I can make a cheese and crackers\");\n",
    "} else {\n",
    "    System.out.println(\"I cannot make cheese and crackers\");\n",
    "}"
   ]
  },
  {
   "cell_type": "code",
   "execution_count": 20,
   "metadata": {},
   "outputs": [
    {
     "name": "stdout",
     "output_type": "stream",
     "text": [
      "My wings have sauce!\n"
     ]
    }
   ],
   "source": [
    "// Make an if statement using 2 variables and an OR(||) statement\n",
    "\n",
    "boolean blucheese = true;\n",
    "boolean ranch = true;\n",
    "\n",
    "if (!blucheese || ranch) {\n",
    "    System.out.println(\"My wings have sauce!\");\n",
    "} else {\n",
    "    System.out.println(\"My wings are dry\");\n",
    "}"
   ]
  }
 ],
 "metadata": {
  "kernelspec": {
   "display_name": "Java",
   "language": "java",
   "name": "java"
  },
  "language_info": {
   "codemirror_mode": "java",
   "file_extension": ".jshell",
   "mimetype": "text/x-java-source",
   "name": "Java",
   "pygments_lexer": "java",
   "version": "15.0.2+7-27"
  },
  "orig_nbformat": 2
 },
 "nbformat": 4,
 "nbformat_minor": 2
}