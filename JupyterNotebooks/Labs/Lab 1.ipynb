{
 "cells": [
  {
   "cell_type": "markdown",
   "metadata": {},
   "source": [
    "# Lab One\n",
    "---\n",
    "\n",
    "Ok for this lab we're going to reiterate a lot of the things that we went over in class.\n",
    "\n",
    "Our Goals are:\n",
    "- Binary Math\n",
    "- Defining Variables\n",
    "    - Primitive Types\n",
    "    - Reference Types\n",
    "- Using Math\n",
    "- Manipulating Variables"
   ]
  },
  {
   "cell_type": "markdown",
   "metadata": {},
   "source": [
    "For this section I just want you to type the answer. I know that you can just look this up but try and do the math. \n",
    "### What is 1000 in Decimal\n",
    "8\n",
    "### What is 1000 1001 in Decimal (This is a byte. It's just split for readability)\n",
    "137\n",
    "### What is 1010 1111 in Decimal (This is a byte. It's just split for readability)\n",
    "175\n",
    "### What is 0101 1010 in Decimal (This is a byte. It's just split for readability)\n",
    "90"
   ]
  },
  {
   "cell_type": "code",
   "execution_count": 10,
   "metadata": {},
   "outputs": [
    {
     "name": "stdout",
     "output_type": "stream",
     "text": [
      "true\n",
      "115\n",
      "-3022\n",
      "2\n",
      "13\n",
      "3.0\n",
      "3.6v\n"
     ]
    }
   ],
   "source": [
    "// Define 8 variables, one of each type listed: [boolean, byte, short, int, long, float, double, char]. Print all 8 of them.\n",
    "//boolean\n",
    "boolean isJavaFun = true;\n",
    "System.out.println(isJavaFun); \n",
    "\n",
    "//byte\n",
    "byte q = 115;\n",
    "System.out.println(q);\n",
    "\n",
    "//short\n",
    "short r = -3022;\n",
    "System.out.println(r);\n",
    "\n",
    "//int\n",
    "int x = 2;\n",
    "System.out.println(x);\n",
    "\n",
    "//long\n",
    "long e = 13;\n",
    "System.out.println(e);\n",
    "\n",
    "//float\n",
    "float d = 3.0f;\n",
    "System.out.println(d);\n",
    "\n",
    "//double\n",
    "double i = 3.6;\n",
    "System.out.print(i);\n",
    "\n",
    "//char\n",
    "char letter = 'v';\n",
    "System.out.println(letter);\n",
    "\n",
    "\n"
   ]
  },
  {
   "cell_type": "code",
   "execution_count": null,
   "metadata": {},
   "outputs": [],
   "source": [
    "// Make me a list of any type\n"
   ]
  },
  {
   "cell_type": "code",
   "execution_count": 6,
   "metadata": {},
   "outputs": [
    {
     "name": "stdout",
     "output_type": "stream",
     "text": [
      "15\n",
      "18\n",
      "5\n",
      "36\n",
      "10\n"
     ]
    }
   ],
   "source": [
    "// With whatever variables you'd like demonstrate the following: [Addition, Subtraction, Division, Multiplication, Modulo]. Print all 5.\n",
    "\n",
    "//Addition\n",
    "System.out.println(9 + 6);\n",
    "//Subtraction\n",
    "System.out.println(22 - 4);\n",
    "//Division\n",
    "System.out.println(25 / 5);\n",
    "//Multiplication\n",
    "System.out.println(12 * 3);\n",
    "//Modulo\n",
    "System.out.println(34 % 12);"
   ]
  },
  {
   "cell_type": "code",
   "execution_count": 7,
   "metadata": {},
   "outputs": [
    {
     "name": "stdout",
     "output_type": "stream",
     "text": [
      "57\n"
     ]
    }
   ],
   "source": [
    "// Using 2 variables and addition print the number 57\n",
    "\n",
    "int v = 33;\n",
    "int w = 24;\n",
    "System.out.println(v+w);\n",
    "\n"
   ]
  },
  {
   "cell_type": "code",
   "execution_count": 8,
   "metadata": {},
   "outputs": [
    {
     "name": "stdout",
     "output_type": "stream",
     "text": [
      "43\n",
      "23\n"
     ]
    }
   ],
   "source": [
    "// Define a variable and print it out. Then alter the same variable and print it out. This can be through string concatenation or addition, etc.\n",
    "\n",
    "int u = 43;\n",
    "System.out.println(u);\n",
    "u = 23;\n",
    "System.out.println(u);"
   ]
  }
 ],
 "metadata": {
  "kernelspec": {
   "display_name": "Java",
   "language": "java",
   "name": "java"
  },
  "language_info": {
   "codemirror_mode": "java",
   "file_extension": ".jshell",
   "mimetype": "text/x-java-source",
   "name": "Java",
   "pygments_lexer": "java",
   "version": "15.0.2+7-27"
  },
  "orig_nbformat": 2
 },
 "nbformat": 4,
 "nbformat_minor": 2
}