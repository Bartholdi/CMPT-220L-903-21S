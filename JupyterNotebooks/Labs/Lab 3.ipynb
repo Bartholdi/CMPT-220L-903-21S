{
 "cells": [
  {
   "cell_type": "markdown",
   "metadata": {},
   "source": [
    "# Lab Three\n",
    "---\n",
    "\n",
    "For this lab we're going to be making and using a bunch of functions. \n",
    "\n",
    "Our Goals are:\n",
    "- Switch Case\n",
    "- Looping\n",
    "- Making our own functions\n",
    "- Combining functions\n",
    "- Structuring solutions"
   ]
  },
  {
   "cell_type": "code",
   "execution_count": 2,
   "metadata": {},
   "outputs": [
    {
     "name": "stdout",
     "output_type": "stream",
     "text": [
      "Babe Ruth is the Great Bambino\n",
      "Joe Dimaggio is great!\n",
      "Gotta love Micky Mantle and the number 7\n",
      "You are not a Yankees fan.\n"
     ]
    }
   ],
   "source": [
    "// Give me an example of you using switch case.\n",
    "String player = \"Babe Ruth\";\n",
    "\n",
    "switch(player){\n",
    "    case \"Babe Ruth\":\n",
    "        System.out.println(\"Babe Ruth is the Great Bambino\");\n",
    "    case \"Joe Dimaggio\":\n",
    "        System.out.println(\"Joe Dimaggio is great!\");\n",
    "    case \"Mickey Mantle\":\n",
    "        System.out.println(\"Gotta love Micky Mantle and the number 7\");\n",
    "    default:\n",
    "        System.out.println(\"You are not a Yankees fan.\");\n",
    "\n",
    "}"
   ]
  },
  {
   "cell_type": "code",
   "execution_count": 49,
   "metadata": {},
   "outputs": [
    {
     "name": "stdout",
     "output_type": "stream",
     "text": [
      "The number printed is: 3\n",
      "The number printed is: 4\n",
      "The number printed is: 5\n",
      "The number printed is: 6\n",
      "The number printed is: 7\n",
      "The number printed is: 8\n",
      "The number printed is: 9\n",
      "The number printed is: 10\n",
      "The number printed is: 11\n",
      "The number printed is: 12\n",
      "The number printed is: 13\n",
      "The number printed is: 14\n"
     ]
    }
   ],
   "source": [
    "// Give me an example of you using a for loop\n",
    "\n",
    "for (int x = 3; x < 15; x++) {\n",
    "    System.out.println(\"The number printed is: \" + x);\n",
    "}"
   ]
  },
  {
   "cell_type": "code",
   "execution_count": 9,
   "metadata": {},
   "outputs": [
    {
     "name": "stdout",
     "output_type": "stream",
     "text": [
      "1\n",
      "2\n",
      "3\n",
      "4\n",
      "5\n",
      "6\n"
     ]
    }
   ],
   "source": [
    "// Give me an example of you using a for each loop\n",
    "String[] dice = {\"1\", \"2\", \"3\", \"4\", \"5\", \"6\"};\n",
    "\n",
    "for (String number: dice) {\n",
    "    System.out.println(number);\n",
    "}"
   ]
  },
  {
   "cell_type": "code",
   "execution_count": 3,
   "metadata": {},
   "outputs": [
    {
     "name": "stdout",
     "output_type": "stream",
     "text": [
      "0\n",
      "1\n",
      "2\n",
      "3\n",
      "4\n"
     ]
    }
   ],
   "source": [
    "// Give me an example of you using a while loop\n",
    "\n",
    "int i = 0;\n",
    "while (i < 5) {\n",
    "  System.out.println(i);\n",
    "  i++;\n",
    "}"
   ]
  },
  {
   "cell_type": "code",
   "execution_count": 56,
   "metadata": {},
   "outputs": [
    {
     "name": "stdout",
     "output_type": "stream",
     "text": [
      "This is a program that takes a number and raises it to the power given. (x^y)\n",
      "Enter a number for the base:\n",
      "Enter a number for the exponent:\n",
      "The answer is 8.0\n"
     ]
    }
   ],
   "source": [
    "// I want you to write a function that will take in a number and raise it to the power given. \n",
    "\n",
    "// For example if given the numbers 2 and 3. The math that the function should do is 2^3 and should print out or return 8. Print the output.\n",
    "\n",
    "import java.util.Scanner;\n",
    "System.out.println(\"This is a program that takes a number and raises it to the power given. (x^y)\");\n",
    "Scanner input = new Scanner(System.in);\n",
    "double base;\n",
    "System.out.println(\"Enter a number for the base:\");\n",
    "base = input.nextInt();\n",
    "System.out.println(\"Enter a number for the exponent:\");\n",
    "double exp;\n",
    "exp = input.nextInt();\n",
    "double value;\n",
    "value = (Math.pow(base, exp));\n",
    "System.out.println(\"The answer is \" + value);\n"
   ]
  },
  {
   "cell_type": "code",
   "execution_count": 52,
   "metadata": {},
   "outputs": [
    {
     "name": "stdout",
     "output_type": "stream",
     "text": [
      "Enter a potential number that is in the array:\n",
      "The number of times this number appears in the array is: 3\n"
     ]
    }
   ],
   "source": [
    "// I want you to write a function that will take in a list and see how many times a given number is in the list. \n",
    "\n",
    "// For example if the array given is [2,3,5,2,3,6,7,8,2] and the number given is 2 the function should print out or return 3. Print the output.\n",
    "\n",
    "import java.util.Scanner;\n",
    "\n",
    "int[] x = {1, 2, 3, 2, 2, 3, 4, 5, 5, 1};\n",
    "int count;\n",
    "int number;\n",
    "Scanner imput = new Scanner(System.in);\n",
    "System.out.println(\"Enter a potential number that is in the array:\");\n",
    "number = input.nextInt();\n",
    "for(int i = 0; i < x.length; i++) {\n",
    "    if (number == x[i]) {\n",
    "        count += 1;\n",
    "    }\n",
    "}\n",
    "System.out.println(\"The number of times this number appears in the array is: \" +count);"
   ]
  },
  {
   "cell_type": "code",
   "execution_count": 55,
   "metadata": {},
   "outputs": [
    {
     "name": "stdout",
     "output_type": "stream",
     "text": [
      "Enter a number length: \n",
      "Enter a number width: \n",
      "The length of the hypoteneuse is: 5.0\n"
     ]
    }
   ],
   "source": [
    "// Give me a function that gives the answer to the pythagorean theorem. \n",
    "// I'd like you to reuse the exponent function from above as well as the functions below to make your function.\n",
    "\n",
    "// If you don't remember the pythagorean theorem the formula is (a^2 + b^2 = c^2). Given a and b as parameters i'd like you to return c. \n",
    "// If this doesn't make sense look up `Pythagorean Theorem Formula` on google.\n",
    "\n",
    "import java.util.Scanner;\n",
    "\n",
    "Scanner input = new Scanner(System.in);\n",
    "System.out.println(\"Enter a number length: \");\n",
    "double a = input.nextDouble();\n",
    "a = Math.pow(a, 2);\n",
    "System.out.println(\"Enter a number width: \");\n",
    "double b = input.nextDouble();\n",
    "b = Math.pow(b, 2);\n",
    "double c = Math.sqrt((a+b));\n",
    "System.out.println(\"The length of the hypoteneuse is: \" + c);\n",
    "\n",
    "\n",
    "\n",
    "\n",
    "\n"
   ]
  }
 ],
 "metadata": {
  "kernelspec": {
   "display_name": "Java",
   "language": "java",
   "name": "java"
  },
  "language_info": {
   "codemirror_mode": "java",
   "file_extension": ".jshell",
   "mimetype": "text/x-java-source",
   "name": "Java",
   "pygments_lexer": "java",
   "version": "15.0.2+7-27"
  },
  "orig_nbformat": 2
 },
 "nbformat": 4,
 "nbformat_minor": 2
}